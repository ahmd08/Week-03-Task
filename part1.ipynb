{
  "nbformat": 4,
  "nbformat_minor": 0,
  "metadata": {
    "colab": {
      "name": "part1.ipynb",
      "provenance": []
    },
    "kernelspec": {
      "name": "python3",
      "display_name": "Python 3"
    },
    "language_info": {
      "name": "python"
    }
  },
  "cells": [
    {
      "cell_type": "code",
      "metadata": {
        "colab": {
          "base_uri": "https://localhost:8080/"
        },
        "id": "OYbIEW6Rom22",
        "outputId": "1fb8cfcf-b7c3-417f-b684-3511e47df818"
      },
      "source": [
        "import pandas as pd\n",
        "import numpy as np\n",
        "import requests\n",
        "\n",
        "from bs4 import BeautifulSoup\n",
        "\n",
        "\n",
        "source = requests.get('https://en.wikipedia.org/wiki/List_of_postal_codes_of_Canada:_M').text\n",
        "\n",
        "soup = BeautifulSoup(source, 'html5lib')\n",
        "\n",
        "postal_codes_dict = {} # initialize an empty dictionary to save the data in\n",
        "for table_cell in soup.find_all('td'):\n",
        "    try:\n",
        "        postal_code = table_cell.p.b.text # get the postal code\n",
        "        postal_code_investigate = table_cell.span.text\n",
        "        neighborhoods_data = table_cell.span.text # get the rest of the data in the cell\n",
        "        borough = neighborhoods_data.split('(')[0] # get the borough in the cell\n",
        "        \n",
        "        # if the cell is not assigned then ignore it\n",
        "        if neighborhoods_data == 'Not assigned':\n",
        "            neighborhoods = []\n",
        "        # else process the data and add it to the dictionary\n",
        "        else:\n",
        "            postal_codes_dict[postal_code] = {}\n",
        "            \n",
        "            try:\n",
        "                neighborhoods = neighborhoods_data.split('(')[1]\n",
        "            \n",
        "                # remove parantheses from neighborhoods string\n",
        "                neighborhoods = neighborhoods.replace('(', ' ')\n",
        "                neighborhoods = neighborhoods.replace(')', ' ')\n",
        "\n",
        "                neighborhoods_names = neighborhoods.split('/')\n",
        "                neighborhoods_clean = ', '.join([name.strip() for name in neighborhoods_names])\n",
        "            except:\n",
        "                borough = borough.strip('\\n')\n",
        "                neighborhoods_clean = borough\n",
        " \n",
        "            # add borough and neighborhood to dictionary\n",
        "            postal_codes_dict[postal_code]['borough'] = borough\n",
        "            postal_codes_dict[postal_code]['neighborhoods'] = neighborhoods_clean\n",
        "    except:\n",
        "        pass\n",
        "    \n",
        "# create an empty dataframe\n",
        "columns = ['PostalCode', 'Borough', 'Neighborhood']\n",
        "toronto_data = pd.DataFrame(columns=columns)\n",
        "toronto_data\n",
        "\n",
        "# populate dataframe with data from dictionary\n",
        "for ind, postal_code in enumerate(postal_codes_dict):\n",
        "    borough = postal_codes_dict[postal_code]['borough']\n",
        "    neighborhood = postal_codes_dict[postal_code]['neighborhoods']\n",
        "    toronto_data = toronto_data.append({\"PostalCode\": postal_code, \n",
        "                                        \"Borough\": borough, \n",
        "                                        \"Neighborhood\": neighborhood},\n",
        "                                        ignore_index=True)\n",
        "\n",
        "# print number of rows of dataframe\n",
        "toronto_data.shape[0]"
      ],
      "execution_count": 1,
      "outputs": [
        {
          "output_type": "execute_result",
          "data": {
            "text/plain": [
              "103"
            ]
          },
          "metadata": {
            "tags": []
          },
          "execution_count": 1
        }
      ]
    },
    {
      "cell_type": "code",
      "metadata": {
        "id": "pRy6xuTSopOo"
      },
      "source": [
        ""
      ],
      "execution_count": null,
      "outputs": []
    }
  ]
}